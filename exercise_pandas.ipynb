{
 "cells": [
  {
   "cell_type": "markdown",
   "metadata": {},
   "source": [
    "# Pandas DataFrames\n",
    "\n",
    "The Pandas DataFrame, which is built on top of the NumPy array, is probably the most commonly used data structure. DataFrames are like supercharged spreadsheets in code. They are one of the primary tools used in data science. This exercise looks at creating DataFrames, manipulating DataFrames, accessing data in DataFrames, and manipulating that data."
   ]
  },
  {
   "cell_type": "markdown",
   "metadata": {
    "id": "EWTjyen_zfYE"
   },
   "source": [
    "## About DataFrames\n",
    "\n",
    "A Pandas DataFrame, like a spreadsheet, is made up of columns and rows. \n",
    "\n",
    "Each column is a  pandas.Series object. A DataFrame is, in some ways, similar to a two-dimensional NumPy array, with labels for the columns and index. \n",
    "\n",
    "Unlike a NumPy array, however, a DataFrame can contain different data types. You can think of a pandas.Series object as a one-dimensional NumPy array with labels. The  object, like a NumPy array, can contain only one data type. The pandas.Series object can use many of the same methods you have seen with arrays, such as min(), max(), and mean().\n",
    "\n",
    "- parts of a dataframe: series\n",
    "- relation to np arrays"
   ]
  },
  {
   "cell_type": "code",
   "execution_count": null,
   "metadata": {},
   "outputs": [],
   "source": [
    "#The usual convention is to import the Pandas package aliased as pd\n",
    "\n",
    "import pandas as pd"
   ]
  },
  {
   "cell_type": "markdown",
   "metadata": {
    "id": "Y0qM0sOTpZVf"
   },
   "source": [
    "## Creating DataFrames\n",
    "\n",
    "You can create DataFrames with data from many sources, including dictionaries and lists and, more commonly, by reading files.  You can also create an empty DataFrame."
   ]
  },
  {
   "cell_type": "markdown",
   "metadata": {},
   "source": [
    "### Exercise 1: Create an empty DataFrame"
   ]
  },
  {
   "cell_type": "code",
   "execution_count": null,
   "metadata": {
    "id": "oYkPFyraDUJU"
   },
   "outputs": [],
   "source": [
    "\n",
    "df = ## ADD YOUR CODE HERE\n",
    "print(df)"
   ]
  },
  {
   "cell_type": "markdown",
   "metadata": {},
   "source": [
    "You can create DataFrames from a list of dictionaries or from a dictionary, where each key is a column label with the values for that key holding the data for the column"
   ]
  },
  {
   "cell_type": "markdown",
   "metadata": {},
   "source": [
    "### Exercise 2: Create a DataFrame from the dictionary 'data'"
   ]
  },
  {
   "cell_type": "code",
   "execution_count": null,
   "metadata": {
    "id": "a4oYxfdm2GoZ"
   },
   "outputs": [],
   "source": [
    "first_names = ['shanda', 'rolly', 'molly', 'frank', 'rip', 'steven', 'gwen', 'arthur']\n",
    "last_names = ['smith', 'brocker', 'stein', 'bach', 'spencer', 'de wilde', 'mason', 'davis']\n",
    "ages = [43, 23, 78, 56, 26, 14, 46, 92]\n",
    "\n",
    "data = {'first':first_names,\n",
    "        'last':last_names,\n",
    "        'ages':ages}"
   ]
  },
  {
   "cell_type": "code",
   "execution_count": null,
   "metadata": {
    "id": "P4RVk2Mf9V3h"
   },
   "outputs": [],
   "source": [
    "participants = ## ADD YOUR CODE HERE\n",
    "participants"
   ]
  },
  {
   "cell_type": "markdown",
   "metadata": {},
   "source": [
    "You can create a list of lists, with each sublist containing the data for one row, in the order of the columns:"
   ]
  },
  {
   "cell_type": "markdown",
   "metadata": {
    "id": "1022nCWeOkON"
   },
   "source": [
    "### Exercise 3: Create a DataFrame from the list 'data'"
   ]
  },
  {
   "cell_type": "code",
   "execution_count": null,
   "metadata": {
    "id": "3cZ5mTti9TTd",
    "scrolled": true
   },
   "outputs": [],
   "source": [
    "data = [[\"shanda\", \"smith\", 43],\n",
    "        [\"rolly\", \"brocker\", 23],\n",
    "        [\"molly\", \"stein\", 78],\n",
    "        [\"frank\", \"bach\", 56],\n",
    "        [\"rip\", \"spencer\", 26],\n",
    "        [\"steven\", \"de wilde\", 14],\n",
    "        [\"gwen\", \"mason\", 46],\n",
    "        [\"arthur\", \"davis\", 92]]"
   ]
  },
  {
   "cell_type": "code",
   "execution_count": null,
   "metadata": {},
   "outputs": [],
   "source": [
    "participants = ## ADD YOUR CODE HERE\n",
    "participants"
   ]
  },
  {
   "cell_type": "markdown",
   "metadata": {},
   "source": [
    "Notice that the resulting DataFrame has been created with integer column names. This is the default if no column names are supplied. "
   ]
  },
  {
   "cell_type": "markdown",
   "metadata": {},
   "source": [
    "### Exercise 4: Repeat exercise 3, but now supply column names explicitly as a list of strings"
   ]
  },
  {
   "cell_type": "code",
   "execution_count": null,
   "metadata": {
    "id": "hfvePMqr8_pN"
   },
   "outputs": [],
   "source": [
    "column_names = ['first', 'last', 'ages']"
   ]
  },
  {
   "cell_type": "code",
   "execution_count": null,
   "metadata": {},
   "outputs": [],
   "source": [
    "participants = ## ADD YOUR CODE HERE\n",
    "participants"
   ]
  },
  {
   "cell_type": "markdown",
   "metadata": {},
   "source": [
    "### Exercise 5: Similar to exercise 4, you can supply index labels as a list. Please create a dataframe, supply both column names and index labels"
   ]
  },
  {
   "cell_type": "code",
   "execution_count": null,
   "metadata": {
    "id": "JJujqrCGUC7x"
   },
   "outputs": [],
   "source": [
    "index_labels = ['a', 'b', 'c', 'd', 'e', 'f', 'g', 'h']"
   ]
  },
  {
   "cell_type": "code",
   "execution_count": null,
   "metadata": {},
   "outputs": [],
   "source": [
    "participants = ## ADD YOUR CODE HERE\n",
    "participants"
   ]
  },
  {
   "cell_type": "markdown",
   "metadata": {},
   "source": [
    "## Creating a DataFrame from a File\n",
    "\n",
    "While creating DataFrames from dictionaries and lists is possible, the vast majority of the time you will create DataFrames from existing data sources. \n",
    "\n",
    "Files are the most common of these data sources. Pandas supplies functions for creating DataFrames from files for many common file types, including CSV, Excel, HTML, JSON, and SQL database connections.\n",
    "\n",
    "Say that you want to open a CSV file from the FiveThirtyEight website, https://data.fivethirtyeight.com, under the **college-majors** data set. After you unzip and upload the CSV file to your filesystems, you open it by simply supplying its path to the Pandas 'pd.read_csv' function:"
   ]
  },
  {
   "cell_type": "markdown",
   "metadata": {},
   "source": [
    "### Exercise 6: create a datafrmae from the 'all-ages.csv' file\n",
    "\n",
    "- Data from data.fivethiryeight.com\n",
    "- Data set: college majors\n",
    "\n",
    "Download the file to your workstation "
   ]
  },
  {
   "cell_type": "code",
   "execution_count": null,
   "metadata": {
    "id": "cPkA1RhC-AUg"
   },
   "outputs": [],
   "source": [
    "college_majors = ## ADD YOUR CODE HERE"
   ]
  },
  {
   "cell_type": "markdown",
   "metadata": {},
   "source": [
    "We can select multi-columns Here we select the columns 'Major','Major_category','Total','Unemployment_rate' of the dataframe. We wont use the other columns."
   ]
  },
  {
   "cell_type": "code",
   "execution_count": null,
   "metadata": {},
   "outputs": [],
   "source": [
    "college_majors = college_majors[['Major','Major_category','Total','Unemployment_rate']]\n",
    "college_majors"
   ]
  },
  {
   "cell_type": "markdown",
   "metadata": {
    "id": "ZtMf_Ueey2lf"
   },
   "source": [
    "## Accessing Data\n",
    "\n",
    "Once you have data loaded into a DataFrame, you should take a look at it. Pandas offers numerous ways of accessing data in a DataFrame. You can look at data by rows, columns, individual cells, or some combination of these. You can also extract data based on its value.\n"
   ]
  },
  {
   "cell_type": "markdown",
   "metadata": {
    "id": "Ezeoh6PKVtq_"
   },
   "source": [
    "### Heads and tails\n",
    "\n",
    "- To see the top or bottom rows "
   ]
  },
  {
   "cell_type": "markdown",
   "metadata": {},
   "source": [
    "### Exercise 7: Check the top rows of the dataframe"
   ]
  },
  {
   "cell_type": "code",
   "execution_count": null,
   "metadata": {
    "id": "ThM3XqpNSZLG"
   },
   "outputs": [],
   "source": [
    "## ADD YOUR CODE"
   ]
  },
  {
   "cell_type": "markdown",
   "metadata": {},
   "source": [
    "### Exercise 8: Check the top 3 rows of the datafra"
   ]
  },
  {
   "cell_type": "code",
   "execution_count": null,
   "metadata": {
    "id": "ZmtJzpIRSd9-"
   },
   "outputs": [],
   "source": [
    "## ADD YOUR CODE"
   ]
  },
  {
   "cell_type": "markdown",
   "metadata": {},
   "source": [
    "### Exercise 9: Check the bottom rowls of the dataframe"
   ]
  },
  {
   "cell_type": "code",
   "execution_count": null,
   "metadata": {
    "id": "wNsXBxChSh3V"
   },
   "outputs": [],
   "source": [
    "## ADD YOUR CODE"
   ]
  },
  {
   "cell_type": "markdown",
   "metadata": {
    "id": "DRTlJLytVz-T"
   },
   "source": [
    "### Descriptive statistics\n",
    "\n",
    "The DataFrame 'describe' method produces various descriptive statistics about the data."
   ]
  },
  {
   "cell_type": "markdown",
   "metadata": {},
   "source": [
    "### Exercise 10: Calculates the count, mean, standard deviation, minimum, maximum, and quantiles for columns containing numeric data. "
   ]
  },
  {
   "cell_type": "code",
   "execution_count": null,
   "metadata": {
    "id": "Dggaxh27SwAs"
   },
   "outputs": [],
   "source": [
    "## ADD CODE HERE"
   ]
  },
  {
   "cell_type": "markdown",
   "metadata": {},
   "source": [
    "## Exercise 11: Repeat the exercise 11, but now control the ranges of the quantiles returned. Please you use the range 0.1 to 0.9 (specifies percentiles for 10% and 90%) "
   ]
  },
  {
   "cell_type": "code",
   "execution_count": null,
   "metadata": {
    "id": "Bf0kD786SyWb"
   },
   "outputs": [],
   "source": [
    "## ADD CODE HERE"
   ]
  },
  {
   "cell_type": "markdown",
   "metadata": {},
   "source": [
    "If you want to see statistics calculated from nonnumeric columns, you can specify which data types are processed. You do this by using the 'include' keyword. The value passed to this keyword should be a sequence of data types. In Pandas, strings are of type object , so the following includes columns with string data types:"
   ]
  },
  {
   "cell_type": "code",
   "execution_count": null,
   "metadata": {
    "id": "raxx4pozUlUn"
   },
   "outputs": [],
   "source": [
    "college_majors.describe(include=['object'])"
   ]
  },
  {
   "cell_type": "code",
   "execution_count": null,
   "metadata": {
    "id": "lymzkkWHVJkz"
   },
   "outputs": [],
   "source": [
    "college_majors.describe(include='all')"
   ]
  },
  {
   "cell_type": "code",
   "execution_count": null,
   "metadata": {
    "id": "OvXWs6KgTdy9"
   },
   "outputs": [],
   "source": [
    "college_majors.describe(exclude=['int'])"
   ]
  },
  {
   "cell_type": "markdown",
   "metadata": {
    "id": "Nt-Q_Dr-vx6Z"
   },
   "source": [
    "### Access data\n",
    "\n",
    "We can look at the data and individual columns, rows, or cells.\n",
    "\n",
    "Looking back at the dataframe 'participants' we created in exercise 5."
   ]
  },
  {
   "cell_type": "code",
   "execution_count": null,
   "metadata": {
    "id": "oBrhJ7XATnj8"
   },
   "outputs": [],
   "source": [
    "participants"
   ]
  },
  {
   "cell_type": "markdown",
   "metadata": {},
   "source": [
    "### Exercise 12: Access the first column of the dataframe 'participant' by name. To access a single column, you supply the column name as an argument in brackets."
   ]
  },
  {
   "cell_type": "code",
   "execution_count": null,
   "metadata": {
    "id": "CR6SEnUVv8qm"
   },
   "outputs": [],
   "source": [
    "## ADD CODE HERE"
   ]
  },
  {
   "cell_type": "markdown",
   "metadata": {},
   "source": [
    "### Exercise 13: Select the columns 'last' and 'first' of the dataframe 'participants'"
   ]
  },
  {
   "cell_type": "code",
   "execution_count": null,
   "metadata": {},
   "outputs": [],
   "source": [
    "## ADD YOUR CODE HERE"
   ]
  },
  {
   "cell_type": "markdown",
   "metadata": {},
   "source": [
    "## Exercise 14: If a column name does not contain dashes or special characters, and if the column name is not the same as an existing attribute of the DataFrame, you can access the column as an attribute. Select the column 'ages' as an attribute (use point)"
   ]
  },
  {
   "cell_type": "code",
   "execution_count": null,
   "metadata": {
    "id": "ToviR3Rsxw60"
   },
   "outputs": [],
   "source": [
    "## ADD CODE HERE"
   ]
  },
  {
   "cell_type": "markdown",
   "metadata": {},
   "source": [
    "The bracket syntax is overloaded to allow you to grab rows as well as columns. \n",
    "\n",
    "To specify rows, you use a slice as an argument. If the slice uses integers, then those integers represent the row numbers to return."
   ]
  },
  {
   "cell_type": "markdown",
   "metadata": {},
   "source": [
    "### Exercise 15: Return rows 3, 4, and 5 of the DataFrame 'participants' using slicing "
   ]
  },
  {
   "cell_type": "code",
   "execution_count": null,
   "metadata": {},
   "outputs": [],
   "source": [
    "## ADD YOUR CODE HERE"
   ]
  },
  {
   "cell_type": "markdown",
   "metadata": {},
   "source": [
    "### Exercise 16: You can also slice using index labels. When you use labels to slice, the last value is included. Return rows an, b, and c:"
   ]
  },
  {
   "cell_type": "code",
   "execution_count": null,
   "metadata": {},
   "outputs": [],
   "source": [
    "## ADD YOUR CODE HERE"
   ]
  },
  {
   "cell_type": "markdown",
   "metadata": {},
   "source": [
    "You can indicate which rows to return by using a list of Booleans. \n",
    "The list should have one Boolean per row: True for the desired rows, and False for the others. \n",
    "\n",
    "### Exercise 17: Create a boolean list and use it to return the second, third, and sixth rows."
   ]
  },
  {
   "cell_type": "code",
   "execution_count": null,
   "metadata": {},
   "outputs": [],
   "source": [
    "mask = #ADD YOUR CODE HERE\n",
    "participants[mask]"
   ]
  },
  {
   "cell_type": "markdown",
   "metadata": {
    "id": "--zYZdF6zXit"
   },
   "source": [
    "### Optimized access by name\n",
    "\n",
    "With the 'loc' indexer, you can supply a single label, and the values for that row will be returned. "
   ]
  },
  {
   "cell_type": "markdown",
   "metadata": {},
   "source": [
    "### Execise 18: Get the values from the row labeled 'c' using loc"
   ]
  },
  {
   "cell_type": "code",
   "execution_count": null,
   "metadata": {
    "id": "EncruiIbyzpb"
   },
   "outputs": [],
   "source": [
    "## ADD YOUR CODE HERE"
   ]
  },
  {
   "cell_type": "markdown",
   "metadata": {},
   "source": [
    "### Execise 19: Get the values from rows between row labeled 'c' to 'f' (inclusive) using loc"
   ]
  },
  {
   "cell_type": "code",
   "execution_count": null,
   "metadata": {
    "id": "Nuj0mgF-0XDS"
   },
   "outputs": [],
   "source": [
    "## ADD YOUR CODE HERE"
   ]
  },
  {
   "cell_type": "markdown",
   "metadata": {},
   "source": [
    "### Execise 20: An optional second argument can indicate which columns to return. Return all the rows for the column labeled as 'first':"
   ]
  },
  {
   "cell_type": "code",
   "execution_count": null,
   "metadata": {
    "id": "UUxLcu2K04HU"
   },
   "outputs": [],
   "source": [
    "## ADD YOUR CODE HERE"
   ]
  },
  {
   "cell_type": "markdown",
   "metadata": {},
   "source": [
    "### Execise 21: Return rows until row 'c', for the columns labeled as 'ages' and 'last' (using slicing)"
   ]
  },
  {
   "cell_type": "code",
   "execution_count": null,
   "metadata": {
    "id": "fT5a7dw91HSD"
   },
   "outputs": [],
   "source": [
    "## ADD YOUR CODE HERE"
   ]
  },
  {
   "cell_type": "markdown",
   "metadata": {},
   "source": [
    "### Execise 22: Return rows until row 'c', for the columns labeled as 'ages' and 'last' (using a list of Booleans similar to exercise 17)"
   ]
  },
  {
   "cell_type": "code",
   "execution_count": null,
   "metadata": {
    "id": "p7uC65-j1PYa"
   },
   "outputs": [],
   "source": [
    "## ADD YOUR CODE HERE"
   ]
  },
  {
   "cell_type": "markdown",
   "metadata": {
    "id": "SH78jUEv10gG"
   },
   "source": [
    "### Optimized access by index\n",
    "\n",
    "The 'iloc' indexer enables you to use index positions to select rows and columns. Much as you’ve seen before with brackets, you can use a single value to specify a single row"
   ]
  },
  {
   "cell_type": "markdown",
   "metadata": {},
   "source": [
    "### Exercise 23: Return the items in row 3 "
   ]
  },
  {
   "cell_type": "code",
   "execution_count": null,
   "metadata": {
    "id": "scrVkjdf1tg9"
   },
   "outputs": [],
   "source": [
    "## ADD YOUR CODE HERE"
   ]
  },
  {
   "cell_type": "markdown",
   "metadata": {},
   "source": [
    "### Exercise 24: Return the items in rows 1 to 4 (inclusive)"
   ]
  },
  {
   "cell_type": "code",
   "execution_count": null,
   "metadata": {
    "id": "Rte4f7wx2FG6"
   },
   "outputs": [],
   "source": [
    "## ADD YOUR CODE HERE"
   ]
  },
  {
   "cell_type": "markdown",
   "metadata": {},
   "source": [
    "### Exercise 25: Return the columns 0 to 2 of the items in rows 1 to 4 (inclusive)"
   ]
  },
  {
   "cell_type": "code",
   "execution_count": null,
   "metadata": {
    "id": "XArxWNfC2NUD"
   },
   "outputs": [],
   "source": [
    "## ADD YOUR CODE HERE"
   ]
  },
  {
   "cell_type": "markdown",
   "metadata": {
    "id": "p1Njevwl5XYE"
   },
   "source": [
    "### Masking and filtering\n",
    "\n",
    "A powerful feature of DataFrames is the ability to select data based on values. You can use comparison operators with columns to see which values meet some condition. \n",
    " "
   ]
  },
  {
   "cell_type": "markdown",
   "metadata": {
    "id": "RiQ4i_TIZ6F4"
   },
   "source": [
    "### Exercise 26: Comparison operators. Show which rows of the  'college_major' (exercise 6) DataFrame that have the value 'Humanities & Liberal Arts' as a major category using the equality operator. It should produces a pandas.Series object that contains  for every row that matches the condition\n"
   ]
  },
  {
   "cell_type": "code",
   "execution_count": null,
   "metadata": {
    "id": "eRdlYtQNVq1H"
   },
   "outputs": [],
   "source": [
    "college_majors.Major_category == ## ADD YOUR CODE HERE"
   ]
  },
  {
   "cell_type": "markdown",
   "metadata": {},
   "source": [
    "### Exercise 27: Remember that  returns rows for every  value of an input sequence. You can make a condition based on a comparison operator and a row. Return shw which shows that the column labeled as 'Total' is greater-than (>) 1200000\n"
   ]
  },
  {
   "cell_type": "code",
   "execution_count": null,
   "metadata": {
    "id": "24b3fyFjWXll"
   },
   "outputs": [],
   "source": [
    "total_mask = ## ADD YOUR CODE HERE\n",
    "total_mask"
   ]
  },
  {
   "cell_type": "markdown",
   "metadata": {},
   "source": [
    "### Exercise 28: Use the pandas.Series object you have created in exercise 17  as a mask to select only the rows of the 'college_majors' DataFrame that meet the condition in ex 17"
   ]
  },
  {
   "cell_type": "code",
   "execution_count": null,
   "metadata": {
    "id": "80_qd6W9ZBmV"
   },
   "outputs": [],
   "source": [
    "top_majors = ## ADD YOUR CODE HERE\n",
    "top_majors"
   ]
  },
  {
   "cell_type": "markdown",
   "metadata": {},
   "source": [
    "### Exercise 29: Use describe to see which major categories have the lowest unemployment rates.  You need to describe the status on the column 'Unemployment_rate'."
   ]
  },
  {
   "cell_type": "code",
   "execution_count": null,
   "metadata": {
    "id": "FLrU9dZFZL7B"
   },
   "outputs": [],
   "source": [
    "## ADD YOUR CODE HERE"
   ]
  },
  {
   "cell_type": "markdown",
   "metadata": {
    "id": "O4kaj-bjas_8"
   },
   "source": [
    "#### Pandas boolean operators\n",
    "You can use the three Boolean operators AND (&), OR (|), and NOT (~) with the results of your conditions. \n",
    "You can use AND (&), OR (|)  to combine conditions and create more complex ones. You can use  NOT (~)  to create a mask that is the opposite of your condition."
   ]
  },
  {
   "cell_type": "markdown",
   "metadata": {},
   "source": [
    "### Exercise 30: Create a new mask combining the two existing masks to produce a new one, that applied for both conditions. You can use AND to create a new mask based on the previous ones to see which major categories of the most popular majors have a low unemployment rate."
   ]
  },
  {
   "cell_type": "code",
   "execution_count": null,
   "metadata": {
    "id": "6nscpZ-KcbRO"
   },
   "outputs": [],
   "source": [
    "# Mask all rows with an unemployment rate less than or equal to 0.046261 (low unemployment rate)\n",
    "employ_rate_mask = college_majors.loc[:, 'Unemployment_rate'] <= 0.046261\n",
    "employ_rate_majors = college_majors.loc[employ_rate_mask]\n",
    "employ_rate_majors.Major_category.unique()\n",
    "\n",
    "# Mask all rows with total participants greater than 1200000 (most popular majors)\n",
    "total_mask = college_majors.loc[:, 'Total'] > 1200000\n",
    "\n",
    "\n",
    "\n",
    "total_rate_mask = ## ADD YOUR CODE HERE\n",
    "total_rate_mask"
   ]
  },
  {
   "cell_type": "markdown",
   "metadata": {},
   "source": [
    "### Exercise 31: Apply the mask from the previous exercise to select the most popular majors have the lowest unemployment rates from the college_major DataFrame"
   ]
  },
  {
   "cell_type": "code",
   "execution_count": null,
   "metadata": {
    "id": "YUORS6dRdtYg"
   },
   "outputs": [],
   "source": [
    "## ADD YOUR CODE HERE"
   ]
  },
  {
   "cell_type": "markdown",
   "metadata": {},
   "source": [
    "## Exercise 32: Create and apply a new mask to create a DataFrame whose rows all have an employment rate higher than the bottom percentile (the opposite of the employ_rate_mask)"
   ]
  },
  {
   "cell_type": "code",
   "execution_count": null,
   "metadata": {
    "id": "QBUjPrJKcPnv"
   },
   "outputs": [],
   "source": [
    "lower_rate_mask = ## ADD YOUR CODE HERE\n",
    "lower_rate_majors = college_majors.loc[lower_rate_mask]\n",
    "lower_rate_majors.Unemployment_rate.min()"
   ]
  },
  {
   "cell_type": "markdown",
   "metadata": {},
   "source": [
    "## Exercise 33: Select all the rows of the college_major DataFrame that either fit the top majors condition or the employment rate condition"
   ]
  },
  {
   "cell_type": "code",
   "execution_count": null,
   "metadata": {
    "id": "TMmiw2EweKP7"
   },
   "outputs": [],
   "source": [
    "college_majors.loc[## ADD YOUR CODE HERE]"
   ]
  },
  {
   "cell_type": "markdown",
   "metadata": {
    "id": "VF06jUcrzA3Z"
   },
   "source": [
    "## Manipulating DataFrames\n",
    "\n",
    "Once you have the data you need in a DataFrame, you might want to change the DataFrame. \n",
    "\n",
    "You can rename columns or indexes, you can add new columns and rows, and you can delete columns and rows."
   ]
  },
  {
   "cell_type": "code",
   "execution_count": null,
   "metadata": {
    "id": "ENm0xEEPdlvY"
   },
   "outputs": [],
   "source": [
    "## Look at all columns of the DataFrame\n",
    "participants.columns"
   ]
  },
  {
   "cell_type": "markdown",
   "metadata": {},
   "source": [
    "Renamining - Changing the label of a column is simple using the DataFrame 'rename; method. \n",
    "\n",
    "### Execise 35: Rename the column current named as 'ages' to 'Ages' in the participant DataFrame\n",
    "Note that by default, the rename method returns a new DataFrame using the new column labels."
   ]
  },
  {
   "cell_type": "code",
   "execution_count": null,
   "metadata": {
    "id": "-WTDTh96d1ut"
   },
   "outputs": [],
   "source": [
    "## ADD YOUR CODE HERE"
   ]
  },
  {
   "cell_type": "code",
   "execution_count": null,
   "metadata": {
    "id": "YpIHFOzCpEoB"
   },
   "outputs": [],
   "source": [
    "## Look at all columns of the DataFrame\n",
    "participants.columns"
   ]
  },
  {
   "cell_type": "markdown",
   "metadata": {},
   "source": [
    "### Execise 36: Repeat exercise 35, but make sure that the rename is done 'inplace', the changes will be done to the original DataFrame."
   ]
  },
  {
   "cell_type": "code",
   "execution_count": null,
   "metadata": {
    "id": "6QYKW7GApH4D"
   },
   "outputs": [],
   "source": [
    "## ADD YOUR CODE HERE"
   ]
  },
  {
   "cell_type": "markdown",
   "metadata": {
    "id": "SGUkg6UVpRQx"
   },
   "source": [
    "You can use the indexer syntax to create new columns. To do so, you simply access the column as if it already exists by using an indexer and the cited values, for example:"
   ]
  },
  {
   "cell_type": "code",
   "execution_count": null,
   "metadata": {
    "id": "oSYpSJRMhZ64"
   },
   "outputs": [],
   "source": [
    "participants['Zip Code'] = [94702, 97402, 94223, 94705, 97503, 94705, 94111, 95333]\n",
    "participants"
   ]
  },
  {
   "cell_type": "markdown",
   "metadata": {},
   "source": [
    "### Exercise 37: Create a new column \"Full Name\" that's content is the values of the participats first and last names (column 'first' and 'last'). Use loc to get the rows of the specific columns and \"add\" them using the operator +"
   ]
  },
  {
   "cell_type": "code",
   "execution_count": null,
   "metadata": {
    "id": "QlbbgqhriACy"
   },
   "outputs": [],
   "source": [
    "participants['Full Name'] = ## ADD YOUR CODE HERE\n",
    "participants"
   ]
  },
  {
   "cell_type": "markdown",
   "metadata": {
    "id": "jANdbGQCzSx-"
   },
   "source": [
    "## Manipulating Data\n",
    "\n",
    "Pandas gives you many ways to change data in a DataFrame. \n",
    "- You can set values by using the same indexers you used before. \n",
    "- You can do operations on whole DataFrames or on individual columns. \n",
    "- And you can apply functions to change elements in a column or create new values from multiple rows or columns."
   ]
  },
  {
   "cell_type": "markdown",
   "metadata": {},
   "source": [
    "### Exercise 38: To change the first name (column first), of the row 'h' ('Arthur') to 'Paul' (use loc)"
   ]
  },
  {
   "cell_type": "code",
   "execution_count": null,
   "metadata": {
    "id": "YP5wkRBxlh35"
   },
   "outputs": [],
   "source": [
    "## ADD YOUR CODE HERE\n"
   ]
  },
  {
   "cell_type": "markdown",
   "metadata": {},
   "source": [
    "### Exercise 39: To change the item of the third column and forth row to 99 (use iloc)"
   ]
  },
  {
   "cell_type": "code",
   "execution_count": null,
   "metadata": {
    "id": "lVjiM14Mlqxj"
   },
   "outputs": [],
   "source": [
    "## ADD YOUR CODE HERE\n"
   ]
  },
  {
   "cell_type": "markdown",
   "metadata": {},
   "source": [
    "You can also use in-place operators such as +=, -=, and  =, to change values in a column.\n",
    "### Exercise 40: Decrease the age of all participant by 1 (use -=)"
   ]
  },
  {
   "cell_type": "code",
   "execution_count": null,
   "metadata": {
    "id": "7wvNc17BmRx2"
   },
   "outputs": [],
   "source": [
    "## ADD YOUR CODE HERE\n"
   ]
  },
  {
   "cell_type": "markdown",
   "metadata": {
    "id": "vreWwDdhhR8b"
   },
   "source": [
    "Replace method finds and replaces values across a DataFrame. \n",
    "\n",
    "### Exercise 41: Find and replace the name rolly with Smiley"
   ]
  },
  {
   "cell_type": "code",
   "execution_count": null,
   "metadata": {
    "id": "PHyFvDJueQDg"
   },
   "outputs": [],
   "source": [
    "## ADD YOUR CODE HERE"
   ]
  },
  {
   "cell_type": "markdown",
   "metadata": {},
   "source": [
    "This method also works with regular expressions. Here is how you construct a regular expression that matches words starting with s and replaces the  s with S"
   ]
  },
  {
   "cell_type": "code",
   "execution_count": null,
   "metadata": {
    "id": "IAgk0p0Reu7M"
   },
   "outputs": [],
   "source": [
    "participants.replace(r'(s)([a-z]+)', r'S\\2', regex=True)"
   ]
  },
  {
   "cell_type": "markdown",
   "metadata": {},
   "source": [
    "### Apply\n",
    "\n",
    "Both DataFrames and the  pandas.Series object have an  method that can call a function on values.\n",
    "In the case of a  pandas.Series object, the apply  method calls a function of your choosing on every value in the pandas.Series object individually.\n"
   ]
  },
  {
   "cell_type": "code",
   "execution_count": null,
   "metadata": {
    "id": "QzWUktaVfZ4e"
   },
   "outputs": [],
   "source": [
    "def cap_word(w):\n",
    "    return w.capitalize()\n",
    "\n",
    "participants.loc[:, 'first'].apply(cap_word)"
   ]
  },
  {
   "cell_type": "markdown",
   "metadata": {},
   "source": [
    "In the case of a DataFrame,  apply takes a row as an argument, enabling you to produce new values from the columns of that row. "
   ]
  },
  {
   "cell_type": "code",
   "execution_count": null,
   "metadata": {
    "id": "_5fCulbyprJO"
   },
   "outputs": [],
   "source": [
    "def say_hello(row):\n",
    "    return f'{row[\"first\"]} is {row[\"Age\"]} years old.'\n",
    "\n",
    "participants.apply(say_hello, axis=1)"
   ]
  }
 ],
 "metadata": {
  "colab": {
   "include_colab_link": true,
   "name": "Chpt09-Pandas.ipynb",
   "provenance": []
  },
  "kernelspec": {
   "display_name": "Python 3 (ipykernel)",
   "language": "python",
   "name": "python3"
  },
  "language_info": {
   "codemirror_mode": {
    "name": "ipython",
    "version": 3
   },
   "file_extension": ".py",
   "mimetype": "text/x-python",
   "name": "python",
   "nbconvert_exporter": "python",
   "pygments_lexer": "ipython3",
   "version": "3.8.18"
  }
 },
 "nbformat": 4,
 "nbformat_minor": 4
}
