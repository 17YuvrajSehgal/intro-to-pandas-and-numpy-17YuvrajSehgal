{
 "cells": [
  {
   "cell_type": "markdown",
   "metadata": {
    "id": "PTjealdL6HT4"
   },
   "source": [
    "# NumPy\n",
    "\n",
    "A NumPy array is a data structure that is designed to efficiently handle operations on large data sets. These data sets can be of varying dimensions and can contain numerous data types—though not in the same object. NumPy arrays are used as input and output to many other libraries and are used as the underpinning of other data structures that are important to data science\n",
    "\n",
    "- Website: [numpy.org](https://numpy.org/)\n",
    "\n",
    "- [Documentation](https://numpy.org/doc/stable/contents.html)\n",
    "\n",
    "- More info at [wikipedia](https://en.wikipedia.org/wiki/NumPy)\n"
   ]
  },
  {
   "cell_type": "markdown",
   "metadata": {
    "id": "eHlPABS_8umB"
   },
   "source": [
    "## Installation\n",
    "If you are using Google Colab, numpy is already available in your environment, just import it. If you are working locally you may need to install it the package. There are many ways to install NumPy, but the simplest way is usually to use pip.\n",
    "\n",
    "```bash\n",
    "pip install numpy\n",
    "```"
   ]
  },
  {
   "cell_type": "code",
   "execution_count": null,
   "metadata": {},
   "outputs": [],
   "source": [
    "# Take the comment out if you need to install numpy\n",
    "\n",
    "#!pip install numpy"
   ]
  },
  {
   "cell_type": "code",
   "execution_count": null,
   "metadata": {
    "id": "wj6nl1Ma6Gg0"
   },
   "outputs": [],
   "source": [
    "# Importing Library\n",
    "\n",
    "import numpy as np"
   ]
  },
  {
   "cell_type": "markdown",
   "metadata": {
    "id": "ULimOUNXWEYA"
   },
   "source": [
    "## Creating an Array\n",
    "\n",
    "You can create arrays from other data structures or initialized with set values. The next exercise ask you to create a one-dimensional array in different ways.  A one-dimensional array has only one dimension, which is the number of elements.\n",
    "\n",
    "You can see that the array object is displayed as having an internal list as its data. Data is not actually stored in lists, but this representation makes arrays easy to read."
   ]
  },
  {
   "cell_type": "markdown",
   "metadata": {},
   "source": [
    "### Exercise 01: Create a one-dimensional array from a list [1,2,3]"
   ]
  },
  {
   "cell_type": "code",
   "execution_count": null,
   "metadata": {
    "colab": {
     "base_uri": "https://localhost:8080/"
    },
    "id": "7_PipJoQWEYB",
    "outputId": "3c4cfe71-acf6-445c-e00c-d592fa8dc6c7"
   },
   "outputs": [],
   "source": [
    "#ADD YOUR CODE HERE"
   ]
  },
  {
   "cell_type": "markdown",
   "metadata": {},
   "source": [
    "### Exercise 02: Create an array of zeros (the array has 3 elements)"
   ]
  },
  {
   "cell_type": "code",
   "execution_count": null,
   "metadata": {
    "colab": {
     "base_uri": "https://localhost:8080/"
    },
    "id": "GjpzytP8WEYC",
    "outputId": "7b5495b6-5a26-4f05-bd0a-ba1ed2421eff"
   },
   "outputs": [],
   "source": [
    "#ADD YOUR CODE HERE"
   ]
  },
  {
   "cell_type": "markdown",
   "metadata": {},
   "source": [
    "### Exercise 03: Create an array of ones (3 elements)"
   ]
  },
  {
   "cell_type": "code",
   "execution_count": null,
   "metadata": {
    "colab": {
     "base_uri": "https://localhost:8080/"
    },
    "id": "pbkUM_h6WEYD",
    "outputId": "d9cf79bb-a067-4077-9d1a-f496c70353a2"
   },
   "outputs": [],
   "source": [
    "#ADD YOUR CODE HERE"
   ]
  },
  {
   "cell_type": "markdown",
   "metadata": {},
   "source": [
    "### Exercise 04: Create an array of arbitary numbers (3 elements)"
   ]
  },
  {
   "cell_type": "code",
   "execution_count": null,
   "metadata": {
    "colab": {
     "base_uri": "https://localhost:8080/"
    },
    "id": "8v_elII5WEYE",
    "outputId": "31b42799-0ec2-4e73-8267-803233e9dc5c"
   },
   "outputs": [],
   "source": [
    "#ADD YOUR CODE HERE"
   ]
  },
  {
   "cell_type": "markdown",
   "metadata": {},
   "source": [
    "### Exercise 05: Create an array of 3 elements from a range of numbers between 0 and 3(exclusive)"
   ]
  },
  {
   "cell_type": "code",
   "execution_count": null,
   "metadata": {
    "colab": {
     "base_uri": "https://localhost:8080/"
    },
    "id": "ylkmbqpmWEYF",
    "outputId": "95986f23-fc15-4e3e-b79f-073cc0bc1ab3"
   },
   "outputs": [],
   "source": [
    "#ADD YOUR CODE HERE"
   ]
  },
  {
   "cell_type": "markdown",
   "metadata": {},
   "source": [
    "### Exercise 06: Create an array of 4 elemsnts from a range of numbers between 0 and 12(exclusive), and with an increment of 3"
   ]
  },
  {
   "cell_type": "code",
   "execution_count": null,
   "metadata": {
    "colab": {
     "base_uri": "https://localhost:8080/"
    },
    "id": "IE9EW2N2WEYG",
    "outputId": "d7f5ce05-51e7-4946-f184-19f7967b8725"
   },
   "outputs": [],
   "source": [
    "#ADD YOUR CODE HERE"
   ]
  },
  {
   "cell_type": "markdown",
   "metadata": {},
   "source": [
    "### Exercise 07: Using np.linspace, a method that produces evenly spaced numbers over an interval. Create an array of 7 elements eventlu spaced from 0 and 21(inclusive)"
   ]
  },
  {
   "cell_type": "code",
   "execution_count": null,
   "metadata": {
    "colab": {
     "base_uri": "https://localhost:8080/"
    },
    "id": "Hpo8iTVVWEYH",
    "outputId": "8d5362b5-e9d8-4c80-b350-c838e3114917"
   },
   "outputs": [],
   "source": [
    "#ADD YOUR CODE HERE"
   ]
  },
  {
   "cell_type": "markdown",
   "metadata": {
    "id": "bXl0tiaqWEYK"
   },
   "source": [
    "### Exercise 08: Given the 'oned' array created, please:\n",
    "- check the data type of the array\n",
    "- check the array size\n",
    "- check the array total number of bytes consumed by the array\n",
    "- check the array shape\n",
    "- check the array number of dimensions"
   ]
  },
  {
   "cell_type": "code",
   "execution_count": null,
   "metadata": {
    "colab": {
     "base_uri": "https://localhost:8080/"
    },
    "id": "by9fzB8vWEYL",
    "outputId": "3b6fef32-4688-4f19-84a3-6587a3058028"
   },
   "outputs": [],
   "source": [
    "oned = np.arange(21)\n",
    "oned"
   ]
  },
  {
   "cell_type": "code",
   "execution_count": null,
   "metadata": {
    "colab": {
     "base_uri": "https://localhost:8080/"
    },
    "id": "FjCBUaQBWEYM",
    "outputId": "9a805406-08e8-41ae-c8bd-c5af78b44bf5"
   },
   "outputs": [],
   "source": [
    "#Array data sype\n",
    "\n",
    "#ADD YOUR CODE HERE"
   ]
  },
  {
   "cell_type": "code",
   "execution_count": null,
   "metadata": {
    "colab": {
     "base_uri": "https://localhost:8080/"
    },
    "id": "MW3VcAwQWEYN",
    "outputId": "4a7ed067-8c93-467c-d519-9c7bacac131f"
   },
   "outputs": [],
   "source": [
    "#Array size\n",
    "\n",
    "#ADD YOUR CODE HERE"
   ]
  },
  {
   "cell_type": "code",
   "execution_count": null,
   "metadata": {
    "colab": {
     "base_uri": "https://localhost:8080/"
    },
    "id": "IFkWcHyRWEYN",
    "outputId": "0be4f9f9-bb22-41b5-9753-3c2bedd7f7c4"
   },
   "outputs": [],
   "source": [
    "#Array number of bytes\n",
    "\n",
    "#ADD YOUR CODE HERE"
   ]
  },
  {
   "cell_type": "code",
   "execution_count": null,
   "metadata": {},
   "outputs": [],
   "source": [
    "#Array shape\n",
    "\n",
    "#ADD YOUR CODE HERE"
   ]
  },
  {
   "cell_type": "code",
   "execution_count": null,
   "metadata": {},
   "outputs": [],
   "source": [
    "#Array dimensions\n",
    "\n",
    "#ADD YOUR CODE HERE"
   ]
  },
  {
   "cell_type": "markdown",
   "metadata": {
    "id": "ThID6QZlWEYO"
   },
   "source": [
    "## N-Dimensions\n",
    "\n",
    "Two-dimensional arrays are used as matrixes. \n",
    "\n",
    "### Exercise 09: Create a two-dimensional array from a list of three three-element lists. \n"
   ]
  },
  {
   "cell_type": "code",
   "execution_count": null,
   "metadata": {
    "colab": {
     "base_uri": "https://localhost:8080/"
    },
    "id": "JbQCJYNnWEYS",
    "outputId": "2ee85525-7335-4bec-9342-52478a654d36"
   },
   "outputs": [],
   "source": [
    "list_o_lists = [[1,2,3], [4,5,6], [7,8,9]]\n",
    "\n",
    "#ADD YOUR CODE HERE"
   ]
  },
  {
   "cell_type": "markdown",
   "metadata": {},
   "source": [
    "### Exercise 10: \n",
    "- Check if the resulting array has 3×3 shape and\n",
    "- Check if the resulting array has two dimensions."
   ]
  },
  {
   "cell_type": "code",
   "execution_count": null,
   "metadata": {
    "colab": {
     "base_uri": "https://localhost:8080/"
    },
    "id": "PxDNGHtjWEYT",
    "outputId": "e204a0d5-0e6e-417f-9b11-00291f73dfb9"
   },
   "outputs": [],
   "source": [
    "#ADD YOUR CODE HERE"
   ]
  },
  {
   "cell_type": "code",
   "execution_count": null,
   "metadata": {
    "colab": {
     "base_uri": "https://localhost:8080/"
    },
    "id": "l-gfdLk_WEYU",
    "outputId": "c5a187b7-3af0-4c3e-8188-eea436652260"
   },
   "outputs": [],
   "source": [
    "#ADD YOUR CODE HERE"
   ]
  },
  {
   "cell_type": "markdown",
   "metadata": {
    "id": "AgI0Ir23WEYV"
   },
   "source": [
    "## Reshape\n",
    "\n",
    "You can produce an array with the same elements but different dimensions by using the reshape method. This method takes the new shape as arguments. "
   ]
  },
  {
   "cell_type": "code",
   "execution_count": null,
   "metadata": {
    "colab": {
     "base_uri": "https://localhost:8080/"
    },
    "id": "TAVE2FenWEYV",
    "outputId": "884a8042-a46e-400b-e78d-97db3f8e0a89"
   },
   "outputs": [],
   "source": [
    "oned = np.arange(12)\n",
    "oned"
   ]
  },
  {
   "cell_type": "markdown",
   "metadata": {},
   "source": [
    "### Exercise 11: Reshape the given 'oned' one-dimensional array to produce a two-dimensional one with 3 rows and 4 columns."
   ]
  },
  {
   "cell_type": "code",
   "execution_count": null,
   "metadata": {
    "colab": {
     "base_uri": "https://localhost:8080/"
    },
    "id": "6cQFFcHwWEYW",
    "outputId": "7c8f8af5-dcc1-44ac-b65d-f0dee1bd27ea"
   },
   "outputs": [],
   "source": [
    "#ADD YOUR CODE HERE"
   ]
  },
  {
   "cell_type": "markdown",
   "metadata": {},
   "source": [
    "### Exercise 11: Reshape the resulting array from exercise 11 back to an one-dimensional array"
   ]
  },
  {
   "cell_type": "code",
   "execution_count": null,
   "metadata": {
    "colab": {
     "base_uri": "https://localhost:8080/"
    },
    "id": "-DwLni_nWEYZ",
    "outputId": "e0cc594c-0032-49b6-f892-21947cff1128"
   },
   "outputs": [],
   "source": [
    "#ADD YOUR CODE HERE"
   ]
  },
  {
   "cell_type": "markdown",
   "metadata": {},
   "source": [
    "### Exercise 12: Reshape the resulting array from exercise 11 to a three-dimensional arrays. The outermost dimension will have 2 arrays that contains 2 arrays, each with 3 elements:"
   ]
  },
  {
   "cell_type": "code",
   "execution_count": null,
   "metadata": {
    "colab": {
     "base_uri": "https://localhost:8080/"
    },
    "id": "oCYw-zM9QdXq",
    "outputId": "9b91205b-332e-40ae-9747-f44c7a8a3030"
   },
   "outputs": [],
   "source": [
    "#ADD YOUR CODE HERE"
   ]
  },
  {
   "cell_type": "markdown",
   "metadata": {},
   "source": [
    "### Exercise 13: Reshaping is commonly used with the ,np.ones, np.zeros, and np.empty methods to produce multidimensional arrays with default values. Create a three-dimensional array of 12 ones such that the outermost dimension will have 2 arrays that contains 2 arrays, each with 2 elements:"
   ]
  },
  {
   "cell_type": "code",
   "execution_count": null,
   "metadata": {
    "id": "6XJlSBHFbn4_"
   },
   "outputs": [],
   "source": [
    "#ADD YOUR CODE HERE"
   ]
  },
  {
   "cell_type": "markdown",
   "metadata": {
    "id": "GJbvBOUtWEYa"
   },
   "source": [
    "## Slicing\n",
    "\n",
    "You can access the data in arrays by indexing and slicing. \n",
    "Indexing and slicing with a one-dimensional array is the same as with a list. \n",
    "You can index individual elements from the start or end of an array by supplying an index number or multiple elements using a slice.\n"
   ]
  },
  {
   "cell_type": "code",
   "execution_count": null,
   "metadata": {
    "id": "J631x1NpWEYa"
   },
   "outputs": [],
   "source": [
    "oned = np.arange(21)\n",
    "oned"
   ]
  },
  {
   "cell_type": "markdown",
   "metadata": {},
   "source": [
    "### Exercise 14: From the 'oned' one dimension array, get the item of the array with index 3"
   ]
  },
  {
   "cell_type": "code",
   "execution_count": null,
   "metadata": {
    "id": "mDrxpqPsWEYb"
   },
   "outputs": [],
   "source": [
    "#ADD YOUR CODE HERE"
   ]
  },
  {
   "cell_type": "markdown",
   "metadata": {},
   "source": [
    "### Exercise 15: Get the last item of the array"
   ]
  },
  {
   "cell_type": "code",
   "execution_count": null,
   "metadata": {
    "id": "CzN3ijLxWEYd"
   },
   "outputs": [],
   "source": [
    "#ADD YOUR CODE HERE"
   ]
  },
  {
   "cell_type": "markdown",
   "metadata": {},
   "source": [
    "### Exercise 16: Get the items of the array between index 3 and 9 (exclusive)"
   ]
  },
  {
   "cell_type": "code",
   "execution_count": null,
   "metadata": {
    "id": "IDfsnEpsWEYe"
   },
   "outputs": [],
   "source": [
    "#ADD YOUR CODE HERE"
   ]
  },
  {
   "cell_type": "markdown",
   "metadata": {},
   "source": [
    "## Indexing and slicing a two-dimensional array\n",
    "\n",
    "For multidimensional arrays, you can supply one argument for each dimension. If you omit the argument for a dimension, it defaults to all elements of that dimension. \n",
    "\n",
    "So, if you supply a single number as an argument to a two-dimensional array, that number will indicate which row to return. If you supply single-number arguments for all dimensions, a single element is returned. \n",
    "\n",
    "You can also supply a slice for any dimension. In return you get a subarray of elements, whose dimensions are determined by the length of your slices. L\n"
   ]
  },
  {
   "cell_type": "code",
   "execution_count": null,
   "metadata": {
    "id": "ynINrezFWEYe"
   },
   "outputs": [],
   "source": [
    "twod = np.arange(21).reshape(3,7)\n",
    "twod"
   ]
  },
  {
   "cell_type": "markdown",
   "metadata": {},
   "source": [
    "### Exercise 17: Access the second row of the 'twod' array"
   ]
  },
  {
   "cell_type": "code",
   "execution_count": null,
   "metadata": {
    "id": "RmgxUl0fWEYg"
   },
   "outputs": [],
   "source": [
    "#ADD YOUR CODE HERE"
   ]
  },
  {
   "cell_type": "markdown",
   "metadata": {},
   "source": [
    "### Exercise 18: Access item at row 2 and col 3"
   ]
  },
  {
   "cell_type": "code",
   "execution_count": null,
   "metadata": {
    "id": "RSNT5w2oWEYg"
   },
   "outputs": [],
   "source": [
    "#ADD YOUR CODE HERE"
   ]
  },
  {
   "cell_type": "markdown",
   "metadata": {},
   "source": [
    "### Exercise 19: Access row 0 and row 1"
   ]
  },
  {
   "cell_type": "code",
   "execution_count": null,
   "metadata": {
    "id": "i7bGyWhMWEYh"
   },
   "outputs": [],
   "source": [
    "#ADD YOUR CODE HERE"
   ]
  },
  {
   "cell_type": "markdown",
   "metadata": {},
   "source": [
    "### Exercise 20: Access col 3 of all rows"
   ]
  },
  {
   "cell_type": "code",
   "execution_count": null,
   "metadata": {
    "id": "irKN6MJNWEYi"
   },
   "outputs": [],
   "source": [
    "#ADD YOUR CODE HERE"
   ]
  },
  {
   "cell_type": "markdown",
   "metadata": {},
   "source": [
    "### Exercise 21: Access the last 3 cols of row 0 and 1 "
   ]
  },
  {
   "cell_type": "code",
   "execution_count": null,
   "metadata": {
    "id": "kA9ws1riWEYj"
   },
   "outputs": [],
   "source": [
    "#ADD YOUR CODE HERE"
   ]
  },
  {
   "cell_type": "markdown",
   "metadata": {},
   "source": [
    "## Changing values in an array\n",
    "\n",
    "You can assign new values to an existing array, much as you would with a list, by using indexing and slicing. If you assign a values to a slice, the whole slice is updated with the new value"
   ]
  },
  {
   "cell_type": "code",
   "execution_count": null,
   "metadata": {
    "id": "eQBH9v02WEYk"
   },
   "outputs": [],
   "source": [
    "twod = np.arange(21).reshape(3,7)\n",
    "twod"
   ]
  },
  {
   "cell_type": "markdown",
   "metadata": {},
   "source": [
    "### Exercise 22: Change the first value of the first row to 33"
   ]
  },
  {
   "cell_type": "code",
   "execution_count": null,
   "metadata": {
    "id": "JSD1uZSIWEYk"
   },
   "outputs": [],
   "source": [
    "#ADD YOUR CODE HERE"
   ]
  },
  {
   "cell_type": "markdown",
   "metadata": {},
   "source": [
    "### Exercise 23: Change the first 3 values (col 0, 1 and 2) of the first and second rows "
   ]
  },
  {
   "cell_type": "code",
   "execution_count": null,
   "metadata": {
    "id": "HxJGouG8WEYl"
   },
   "outputs": [],
   "source": [
    "#ADD YOUR CODE HERE"
   ]
  },
  {
   "cell_type": "markdown",
   "metadata": {
    "id": "0ZNqcPW4WEYm"
   },
   "source": [
    "## Filtering Values\n",
    "\n",
    "One of the most used aspects of NumPy arrays and the data structures built on top of them is the ability to filter values based on conditions of your choosing. In this way, you can use an array to answer questions about your data.\n"
   ]
  },
  {
   "cell_type": "code",
   "execution_count": null,
   "metadata": {
    "id": "jxDXHId1WEYm"
   },
   "outputs": [],
   "source": [
    "twod = np.arange(21).reshape(3,7)\n",
    "twod"
   ]
  },
  {
   "cell_type": "markdown",
   "metadata": {},
   "source": [
    "Given a two-dimensional array of integers, called and a second array 'mask' with the same dimensions, but with Boolean values. 'mask' specifies which elements from the first array to return. "
   ]
  },
  {
   "cell_type": "code",
   "execution_count": null,
   "metadata": {
    "id": "uTbi_GRSWEYp"
   },
   "outputs": [],
   "source": [
    "mask = np.array([[ True,  False,  True,  True,  False, True, False],\n",
    "       [ True,  False,  True,  True,  False, True, False],\n",
    "       [ True,  False,  True,  True,  False, True, False]])"
   ]
  },
  {
   "cell_type": "markdown",
   "metadata": {},
   "source": [
    "### Exercise 23: Filter array 'twod' using the array 'mask'. The resulting array should contain the elements from 'twod' array whose corresponding positions in 'mask' have the value 'True'."
   ]
  },
  {
   "cell_type": "code",
   "execution_count": null,
   "metadata": {
    "id": "pDuXeEW0WEYq"
   },
   "outputs": [],
   "source": [
    "#ADD YOUR CODE HERE"
   ]
  },
  {
   "cell_type": "markdown",
   "metadata": {},
   "source": [
    "### Exercise 24: Comparison operators that you have seen returning single Booleans before return arrays when used with arrays. So, if you use the less-than operator (<) against the array 'towd', the result will be an array with True for every item that is below the given number. For this exercise, please return an array that the values are True when the value of 'twod' are bellow 5."
   ]
  },
  {
   "cell_type": "code",
   "execution_count": null,
   "metadata": {
    "id": "lCr4wQQ3WEYq"
   },
   "outputs": [],
   "source": [
    "#ADD YOUR CODE HERE"
   ]
  },
  {
   "cell_type": "markdown",
   "metadata": {},
   "source": [
    "### Exercise 25: Please return an array that the values are the value of 'twod' that are bellow 5."
   ]
  },
  {
   "cell_type": "code",
   "execution_count": null,
   "metadata": {
    "id": "ziR_zkPrWEYr"
   },
   "outputs": [],
   "source": [
    "#ADD YOUR CODE HERE"
   ]
  },
  {
   "cell_type": "markdown",
   "metadata": {},
   "source": [
    "### Exercise 26: You can also combine these comparisons to create more complex masks. You can join two conditions to create a mask that evaluates to  only for items meeting both conditions. Similar to exercise 24, please return an array that the values are True when the value of 'twod' are bellow 5 AND the modulo of the value == 0."
   ]
  },
  {
   "cell_type": "code",
   "execution_count": null,
   "metadata": {
    "id": "S_nSW7JWWEYs"
   },
   "outputs": [],
   "source": [
    "#ADD YOUR CODE HERE"
   ]
  },
  {
   "cell_type": "markdown",
   "metadata": {},
   "source": [
    "### Exercise 27: Similar to exercise 25, please return an array that the values are the value of 'twod' that are bellow 5 AND the modulo of the value == 0."
   ]
  },
  {
   "cell_type": "code",
   "execution_count": null,
   "metadata": {
    "id": "ZCHaMO1cWEYu"
   },
   "outputs": [],
   "source": [
    "#ADD YOUR CODE HERE"
   ]
  },
  {
   "cell_type": "markdown",
   "metadata": {
    "id": "8xBhq3KKWEYu"
   },
   "source": [
    "## Views versus copies\n",
    "\n",
    "NumPy arrays are designed to work efficiently with large data sets. One of the ways this is accomplished is by using views. When you slice or filter an array, the returned array is, when possible, a **view** and not a copy. \n",
    "\n",
    "A view allows you to look at the same data differently. It is important to understand that memory and processing power are not used in making copies of data every time you slice or filter. If you change a value in a view of an array, you change that value in the original array as well as any other views that represent that item. "
   ]
  },
  {
   "cell_type": "code",
   "execution_count": null,
   "metadata": {
    "id": "_AglvOSxWEYv"
   },
   "outputs": [],
   "source": [
    "data1 = np.arange(24).reshape(4,6)\n",
    "data1"
   ]
  },
  {
   "cell_type": "markdown",
   "metadata": {},
   "source": [
    "We take a slice from the array data1 and name it data2. "
   ]
  },
  {
   "cell_type": "code",
   "execution_count": null,
   "metadata": {
    "id": "3N7fq1K6WEYw"
   },
   "outputs": [],
   "source": [
    "#ADD YOUR CODE HERE\n",
    "data2 = data1[:2,3:]\n",
    "data2"
   ]
  },
  {
   "cell_type": "markdown",
   "metadata": {},
   "source": [
    "### Exercise 28: Replace the value 11 in data2 with -1. "
   ]
  },
  {
   "cell_type": "code",
   "execution_count": null,
   "metadata": {
    "id": "JDer9q46WEYz"
   },
   "outputs": [],
   "source": [
    "#ADD YOUR CODE HERE"
   ]
  },
  {
   "cell_type": "markdown",
   "metadata": {},
   "source": [
    "### Exercise 29: Go back to data1, and check if the value is set to 11 or -1."
   ]
  },
  {
   "cell_type": "code",
   "execution_count": null,
   "metadata": {
    "id": "zaNg3AVdWEY0"
   },
   "outputs": [],
   "source": [
    "#ADD YOUR CODE HERE"
   ]
  },
  {
   "cell_type": "markdown",
   "metadata": {},
   "source": [
    "This behavior can lead to bugs and miscalculations, but if you understand it, you can gain some important benefits when working with large data sets. If you want to change data from a slice or filtering operation without changing it in the original array, you can make a copy"
   ]
  },
  {
   "cell_type": "code",
   "execution_count": null,
   "metadata": {
    "id": "aKFQGJtnWEY1"
   },
   "outputs": [],
   "source": [
    "#ADD YOUR CODE HERE\n",
    "data1 = np.arange(24).reshape(4,6)\n",
    "data2 = data1[:2,3:].copy()\n",
    "\n",
    "print(data1)\n",
    "print(data2)"
   ]
  },
  {
   "cell_type": "markdown",
   "metadata": {},
   "source": [
    "### Exercise 30: Replace the value 11 in data2 with -1. "
   ]
  },
  {
   "cell_type": "code",
   "execution_count": null,
   "metadata": {
    "id": "6hVXi7T2WEY3"
   },
   "outputs": [],
   "source": [
    "#ADD YOUR CODE HERE"
   ]
  },
  {
   "cell_type": "markdown",
   "metadata": {},
   "source": [
    "### Exercise 31: Go back to data1, and check if the value is set to 11 or -1."
   ]
  },
  {
   "cell_type": "code",
   "execution_count": null,
   "metadata": {
    "id": "fbdh9-_-WEY4"
   },
   "outputs": [],
   "source": [
    "#ADD YOUR CODE HERE"
   ]
  },
  {
   "cell_type": "markdown",
   "metadata": {
    "id": "rVUhYlR6QdYJ"
   },
   "source": [
    "## Introspection\n",
    "\n",
    "NumPy arrays have built-in methods both to get statistical summary data and to perform matrix operations. shows There are methods to get the maximum, minimum, sum, mean, and standard deviation. All these methods produce results across the whole array unless an axis is specified. If an axis value of 1 is specified, an array with results for each row is produced. With an axis value of 0, an array of results is produced for each column\n"
   ]
  },
  {
   "cell_type": "code",
   "execution_count": null,
   "metadata": {
    "id": "-glmPHG1QdYJ"
   },
   "outputs": [],
   "source": [
    "data = np.arange(12).reshape(3,4)\n",
    "data"
   ]
  },
  {
   "cell_type": "markdown",
   "metadata": {},
   "source": [
    "## Exercise 32: Get the max value of array 'data'"
   ]
  },
  {
   "cell_type": "code",
   "execution_count": null,
   "metadata": {
    "id": "lLhYsqaIQdYK"
   },
   "outputs": [],
   "source": [
    "#ADD YOUR CODE HERE"
   ]
  },
  {
   "cell_type": "markdown",
   "metadata": {},
   "source": [
    "## Exercise 33: Get the min value of array 'data'"
   ]
  },
  {
   "cell_type": "code",
   "execution_count": null,
   "metadata": {
    "id": "SPWXBgfDQdYK"
   },
   "outputs": [],
   "source": [
    "#ADD YOUR CODE HERE"
   ]
  },
  {
   "cell_type": "markdown",
   "metadata": {},
   "source": [
    "## Exercise 34: Get the sum of all items of array 'data'"
   ]
  },
  {
   "cell_type": "code",
   "execution_count": null,
   "metadata": {
    "id": "G0bdUnLJQdYL"
   },
   "outputs": [],
   "source": [
    "#ADD YOUR CODE HERE"
   ]
  },
  {
   "cell_type": "markdown",
   "metadata": {},
   "source": [
    "## Exercise 35: Get the sum of each row of array 'data'"
   ]
  },
  {
   "cell_type": "code",
   "execution_count": null,
   "metadata": {
    "id": "ilU14SuVQdYN"
   },
   "outputs": [],
   "source": [
    "#ADD YOUR CODE HERE"
   ]
  },
  {
   "cell_type": "markdown",
   "metadata": {},
   "source": [
    "## Exercise 36: Get the sum of each col array 'data'"
   ]
  },
  {
   "cell_type": "code",
   "execution_count": null,
   "metadata": {
    "id": "tncc8AOoQdYO"
   },
   "outputs": [],
   "source": [
    "#ADD YOUR CODE HERE"
   ]
  },
  {
   "cell_type": "markdown",
   "metadata": {},
   "source": [
    "## Exercise 37: Get the mean of all values of array 'data'"
   ]
  },
  {
   "cell_type": "code",
   "execution_count": null,
   "metadata": {
    "id": "ZGi-C2gjQdYP"
   },
   "outputs": [],
   "source": [
    "#ADD YOUR CODE HERE"
   ]
  },
  {
   "cell_type": "markdown",
   "metadata": {},
   "source": [
    "## Exercise 38: Get the standard deviation of all values of array 'data'"
   ]
  },
  {
   "cell_type": "code",
   "execution_count": null,
   "metadata": {
    "id": "vVykwF_uQdYT"
   },
   "outputs": [],
   "source": [
    "#ADD YOUR CODE HERE"
   ]
  },
  {
   "cell_type": "markdown",
   "metadata": {},
   "source": [
    "## Exercise 39: Get the standard deviation of each row of array 'data'"
   ]
  },
  {
   "cell_type": "code",
   "execution_count": null,
   "metadata": {
    "id": "g4tMJa4LQdYV"
   },
   "outputs": [],
   "source": [
    "#ADD YOUR CODE HERE"
   ]
  },
  {
   "cell_type": "markdown",
   "metadata": {},
   "source": [
    "## Exercise 40: Get the standard deviation of each col of array 'data'"
   ]
  },
  {
   "cell_type": "code",
   "execution_count": null,
   "metadata": {
    "id": "UWQ-MsZ_QdYW"
   },
   "outputs": [],
   "source": [
    "#ADD YOUR CODE HERE"
   ]
  },
  {
   "cell_type": "markdown",
   "metadata": {
    "id": "HSUezRqOWEY4"
   },
   "source": [
    "## Element by Element Operations\n",
    "\n",
    "An array is not a sequence. Arrays do share some characteristics with lists, and on some level it is easy to think of the data in an array as a list of lists. \n",
    "\n",
    "There are many differences between arrays and sequences, however. One area of difference is when performing operations between the items in two arrays or two sequences. Remember that when you do an operation such as multiplication with a sequence, the operation is done to the sequence, not to its contents. So, if you multiply a list by zero, the result is a list with a length of zero:"
   ]
  },
  {
   "cell_type": "code",
   "execution_count": null,
   "metadata": {
    "id": "4UEGHolM8E4A"
   },
   "outputs": [],
   "source": [
    "L1 = list(range(10))\n",
    "L2 = list(range(10, 0, -1))"
   ]
  },
  {
   "cell_type": "code",
   "execution_count": null,
   "metadata": {
    "colab": {
     "base_uri": "https://localhost:8080/"
    },
    "id": "-Tbpwoonbn5u",
    "outputId": "d816ae44-12cd-400f-9a7b-d16459684a16"
   },
   "outputs": [],
   "source": [
    "print(L1*0)\n",
    "print(L1)"
   ]
  },
  {
   "cell_type": "markdown",
   "metadata": {},
   "source": [
    "You cannot multiply two list even if they are of the same length"
   ]
  },
  {
   "cell_type": "code",
   "execution_count": null,
   "metadata": {
    "colab": {
     "base_uri": "https://localhost:8080/",
     "height": 166
    },
    "id": "BOHyhnGHWEZB",
    "outputId": "9c88cf75-2043-4b6d-dc5e-a92bbd4c7a70"
   },
   "outputs": [],
   "source": [
    "L1*L2"
   ]
  },
  {
   "cell_type": "markdown",
   "metadata": {},
   "source": [
    "While it is possible to use loops to perform element-by-element operations on lists, it is much simpler to use NumPy arrays for such operations. Arrays do element-by-element operations by default. The next exercises demonstrate multiplication, addition, and division operations between two arrays. Notice that the operations in each case are done between the elements of the arrays."
   ]
  },
  {
   "cell_type": "code",
   "execution_count": null,
   "metadata": {
    "colab": {
     "base_uri": "https://localhost:8080/"
    },
    "id": "5d3_0cPSKtRt",
    "outputId": "a82c08e8-6e7b-4a94-fd6c-a899a9c2c94f"
   },
   "outputs": [],
   "source": [
    "array1 = np.array(L1)\n",
    "array2 = np.array(L2)"
   ]
  },
  {
   "cell_type": "markdown",
   "metadata": {},
   "source": [
    "### Exercise 41: Multiply array1 and array2"
   ]
  },
  {
   "cell_type": "code",
   "execution_count": null,
   "metadata": {},
   "outputs": [],
   "source": [
    "#ADD YOUR CODE HERE"
   ]
  },
  {
   "cell_type": "markdown",
   "metadata": {},
   "source": [
    "### Exercise 42: Add array1 and array2"
   ]
  },
  {
   "cell_type": "code",
   "execution_count": null,
   "metadata": {
    "id": "8ps6pODuWEZD"
   },
   "outputs": [],
   "source": [
    "#ADD YOUR CODE HERE"
   ]
  },
  {
   "cell_type": "markdown",
   "metadata": {},
   "source": [
    "### Exercise 43: Divise array1 and array2"
   ]
  },
  {
   "cell_type": "code",
   "execution_count": null,
   "metadata": {
    "id": "UItu4O0HK-Mu"
   },
   "outputs": [],
   "source": [
    "#ADD YOUR CODE HERE"
   ]
  },
  {
   "cell_type": "markdown",
   "metadata": {
    "id": "7XjdzcfOWEZP"
   },
   "source": [
    "## Broadcasting\n",
    "\n",
    "You can perform operations between arrays of different dimensions. Operations can be done when the dimension is the same or when the dimension is one for at least one of the arrays. "
   ]
  },
  {
   "cell_type": "code",
   "execution_count": null,
   "metadata": {
    "id": "7ZcF_xMGWEZP"
   },
   "outputs": [],
   "source": [
    "A1 = np.array([[1,2,3],\n",
    "               [4,5,6],\n",
    "               [7,8,9]])\n",
    "A2 = np.array([[1,1,1],\n",
    "               [1,1,1],\n",
    "               [1,1,1]])"
   ]
  },
  {
   "cell_type": "markdown",
   "metadata": {},
   "source": [
    "### Exercise 44: Let's adds 1 to each element of the array A1 in three different ways: \n",
    "- first lets with an array of ones (A2) with the same dimensions (3, 3), \n",
    "- then with an array with one dimension of one (1, 3), and \n",
    "- finally by using the integer 1.\n",
    "\n",
    "In all three cases, the result is the same: an array of dimension (3, 3). This is called broadcasting because a dimension of one is expanded to fit the higher dimension."
   ]
  },
  {
   "cell_type": "code",
   "execution_count": null,
   "metadata": {
    "colab": {
     "base_uri": "https://localhost:8080/"
    },
    "id": "jQtvXecwWEZQ",
    "outputId": "249b3162-6fb4-4b41-ba86-5274e2da7f4c"
   },
   "outputs": [],
   "source": [
    "##Add A1 and A2\n",
    "\n",
    "#ADD YOUR CODE HERE"
   ]
  },
  {
   "cell_type": "code",
   "execution_count": null,
   "metadata": {
    "colab": {
     "base_uri": "https://localhost:8080/"
    },
    "id": "vGni_zxyWEZR",
    "outputId": "fdc28b71-3578-4639-87cf-c72cb4a9af9f"
   },
   "outputs": [],
   "source": [
    "##Add A1 and with an one dimension of one (1, 3)\n",
    "\n",
    "#ADD YOUR CODE HERE\n",
    "A2 = np.array([1,1,1])"
   ]
  },
  {
   "cell_type": "code",
   "execution_count": null,
   "metadata": {
    "colab": {
     "base_uri": "https://localhost:8080/"
    },
    "id": "gx7CxRPsWEZS",
    "outputId": "2e95a014-a494-477a-9860-352ed4af5fa0"
   },
   "outputs": [],
   "source": [
    "# Add A1 using the integer 1\n",
    "\n",
    "\n",
    "#ADD YOUR CODE HERE"
   ]
  },
  {
   "cell_type": "markdown",
   "metadata": {},
   "source": [
    "## Expanding Dimensions"
   ]
  },
  {
   "cell_type": "code",
   "execution_count": null,
   "metadata": {
    "colab": {
     "base_uri": "https://localhost:8080/"
    },
    "id": "FG4i1fGyWEZT",
    "outputId": "bbe0600c-9e31-4cc1-9b47-2d2a5a4fc522"
   },
   "outputs": [],
   "source": [
    "A4 = np.arange(10).reshape(2,1,5)\n",
    "A4"
   ]
  },
  {
   "cell_type": "code",
   "execution_count": null,
   "metadata": {
    "colab": {
     "base_uri": "https://localhost:8080/"
    },
    "id": "2bSFh90rWEZU",
    "outputId": "55cfdaf9-2851-4af8-9929-66a75c4487cc"
   },
   "outputs": [],
   "source": [
    "A5 = np.arange(14).reshape(2,7,1)\n",
    "A5"
   ]
  },
  {
   "cell_type": "code",
   "execution_count": null,
   "metadata": {
    "colab": {
     "base_uri": "https://localhost:8080/"
    },
    "id": "3ry5_2TiWEZW",
    "outputId": "2f922424-1343-4676-ffb6-dfca29297472"
   },
   "outputs": [],
   "source": [
    "A6 = A4 - A5\n",
    "A6"
   ]
  },
  {
   "cell_type": "code",
   "execution_count": null,
   "metadata": {
    "colab": {
     "base_uri": "https://localhost:8080/"
    },
    "id": "IY6F-SmkWEZX",
    "outputId": "d2e5a4d7-08cb-4a38-ed0c-f511f081d702"
   },
   "outputs": [],
   "source": [
    "A6.shape"
   ]
  }
 ],
 "metadata": {
  "colab": {
   "include_colab_link": true,
   "name": "Chapter-07:Numpy.ipynb",
   "provenance": []
  },
  "kernelspec": {
   "display_name": "Python 3 (ipykernel)",
   "language": "python",
   "name": "python3"
  },
  "language_info": {
   "codemirror_mode": {
    "name": "ipython",
    "version": 3
   },
   "file_extension": ".py",
   "mimetype": "text/x-python",
   "name": "python",
   "nbconvert_exporter": "python",
   "pygments_lexer": "ipython3",
   "version": "3.8.18"
  }
 },
 "nbformat": 4,
 "nbformat_minor": 4
}
